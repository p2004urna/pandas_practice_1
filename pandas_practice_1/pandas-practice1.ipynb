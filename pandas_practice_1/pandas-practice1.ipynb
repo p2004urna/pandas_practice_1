{
 "cells": [
  {
   "cell_type": "code",
   "execution_count": 1,
   "id": "ec97c540-e024-4d4d-8d48-2c34dbdb1703",
   "metadata": {},
   "outputs": [],
   "source": [
    "import pandas as pd"
   ]
  },
  {
   "cell_type": "code",
   "execution_count": 2,
   "id": "99db5b07-9b49-4149-9c84-534ec63a6738",
   "metadata": {},
   "outputs": [
    {
     "name": "stdout",
     "output_type": "stream",
     "text": [
      "<module 'pandas' from '/Users/purnapriyamandal/Desktop/AnacondaTools/anaconda3/lib/python3.12/site-packages/pandas/__init__.py'>\n"
     ]
    }
   ],
   "source": [
    "print(pd)"
   ]
  },
  {
   "cell_type": "code",
   "execution_count": 3,
   "id": "073bb2b0-4af6-4e22-85a4-a13e356932cd",
   "metadata": {},
   "outputs": [
    {
     "name": "stdout",
     "output_type": "stream",
     "text": [
      "0    RELIANCE.NS\n",
      "1         TCS.NS\n",
      "2        INFY.NS\n",
      "3    HDFCBANK.NS\n",
      "4         ITC.NS\n",
      "dtype: object\n"
     ]
    }
   ],
   "source": [
    "tickers = pd.Series(['RELIANCE.NS', 'TCS.NS', 'INFY.NS', 'HDFCBANK.NS', 'ITC.NS'])\n",
    "print(tickers)"
   ]
  },
  {
   "cell_type": "code",
   "execution_count": 4,
   "id": "11555d29-4157-4169-b6ec-5ec6dabc6694",
   "metadata": {},
   "outputs": [],
   "source": [
    "# Sample data: 5 days of made-up stock prices for RELIANCE\n",
    "data = {\n",
    "    'Date': ['2024-06-24', '2024-06-25', '2024-06-26', '2024-06-27', '2024-06-28'],\n",
    "    'Open': [2500.0, 2520.0, 2510.0, 2535.0, 2550.0],\n",
    "    'Close': [2520.0, 2510.0, 2535.0, 2550.0, 2570.0]\n",
    "}"
   ]
  },
  {
   "cell_type": "code",
   "execution_count": 5,
   "id": "32dda1f0-f608-49b8-ac43-b74290fc4e25",
   "metadata": {},
   "outputs": [],
   "source": [
    "df = pd.DataFrame(data)"
   ]
  },
  {
   "cell_type": "code",
   "execution_count": 6,
   "id": "1e833740-a770-4432-b63e-5e6cc52e7644",
   "metadata": {},
   "outputs": [
    {
     "name": "stdout",
     "output_type": "stream",
     "text": [
      "         Date    Open   Close\n",
      "0  2024-06-24  2500.0  2520.0\n",
      "1  2024-06-25  2520.0  2510.0\n",
      "2  2024-06-26  2510.0  2535.0\n",
      "3  2024-06-27  2535.0  2550.0\n",
      "4  2024-06-28  2550.0  2570.0\n"
     ]
    }
   ],
   "source": [
    "print(df)"
   ]
  },
  {
   "cell_type": "code",
   "execution_count": 7,
   "id": "7f411af4-eb31-4260-8447-c5036daac76a",
   "metadata": {},
   "outputs": [
    {
     "name": "stdout",
     "output_type": "stream",
     "text": [
      "         Date    Open   Close\n",
      "0  2024-06-24  2500.0  2520.0\n",
      "1  2024-06-25  2520.0  2510.0\n",
      "2  2024-06-26  2510.0  2535.0\n",
      "3  2024-06-27  2535.0  2550.0\n",
      "4  2024-06-28  2550.0  2570.0\n"
     ]
    }
   ],
   "source": [
    "print(df.head())"
   ]
  },
  {
   "cell_type": "code",
   "execution_count": 8,
   "id": "81e52073-2b6e-4cf4-9e7c-152237e681df",
   "metadata": {},
   "outputs": [
    {
     "name": "stdout",
     "output_type": "stream",
     "text": [
      "<class 'pandas.core.frame.DataFrame'>\n",
      "RangeIndex: 5 entries, 0 to 4\n",
      "Data columns (total 3 columns):\n",
      " #   Column  Non-Null Count  Dtype  \n",
      "---  ------  --------------  -----  \n",
      " 0   Date    5 non-null      object \n",
      " 1   Open    5 non-null      float64\n",
      " 2   Close   5 non-null      float64\n",
      "dtypes: float64(2), object(1)\n",
      "memory usage: 252.0+ bytes\n"
     ]
    }
   ],
   "source": [
    "df.info()"
   ]
  },
  {
   "cell_type": "code",
   "execution_count": null,
   "id": "d0a93c42-8422-444a-8a0d-f49e0d97177d",
   "metadata": {},
   "outputs": [],
   "source": []
  }
 ],
 "metadata": {
  "kernelspec": {
   "display_name": "Python [conda env:base] *",
   "language": "python",
   "name": "conda-base-py"
  },
  "language_info": {
   "codemirror_mode": {
    "name": "ipython",
    "version": 3
   },
   "file_extension": ".py",
   "mimetype": "text/x-python",
   "name": "python",
   "nbconvert_exporter": "python",
   "pygments_lexer": "ipython3",
   "version": "3.12.7"
  }
 },
 "nbformat": 4,
 "nbformat_minor": 5
}
